{
 "cells": [
  {
   "cell_type": "markdown",
   "metadata": {},
   "source": [
    "#### Initial Set Up"
   ]
  },
  {
   "cell_type": "code",
   "execution_count": null,
   "metadata": {},
   "outputs": [],
   "source": [
    "# Import Dependencies\n",
    "import pandas as pd\n",
    "import numpy as np\n",
    "from sklearn.preprocessing import OneHotEncoder\n",
    "\n",
    "# Remove dataFrame display size restrictions\n",
    "#pd.set_option(\"display.max_rows\", None, \"display.max_columns\", None)\n",
    "\n",
    "# Create path\n",
    "path = \"Resources/brownfields.csv\"\n",
    "\n",
    "# Read in csv\n",
    "df = pd.read_csv(path)\n",
    "\n",
    "# Display first 5 records\n",
    "df.head()\n",
    "\n",
    "# Grab original dimensions before clean\n",
    "original_dimensions = df.shape\n",
    "print(f'Original dimensions of the brownfield site dataset (rows/columns): {original_dimensions}') "
   ]
  },
  {
   "cell_type": "markdown",
   "metadata": {},
   "source": [
    "#### Clean Up"
   ]
  },
  {
   "cell_type": "code",
   "execution_count": null,
   "metadata": {},
   "outputs": [],
   "source": [
    "# Remove all Brownfield sites that outside NYC\n",
    "df = df[df['Town'].str.contains(\"New York City\", na=False)]\n",
    "\n",
    "nyc_only = df.shape\n",
    "print(f\"Dimensions of the brownfield site dataset after excluding all sites outside NYC's 5 boroughs: {nyc_only}\")  "
   ]
  },
  {
   "cell_type": "code",
   "execution_count": null,
   "metadata": {},
   "outputs": [],
   "source": [
    "# Remove irrelevant columns\n",
    "df = df[df.columns.difference(['accuracy', \"Address1\", 'accuracyunit', 'x_coord', 'y_coord', \"Locality\", 'Town', 'Address2', 'Region', 'method', 'Program'])]\n",
    "\n",
    "columns_removed = df.shape\n",
    "print(f'The dimensions of the brownfield site dataset after removing irrelevant columns: {columns_removed}') "
   ]
  },
  {
   "cell_type": "code",
   "execution_count": null,
   "metadata": {},
   "outputs": [],
   "source": [
    "# Rename column names\n",
    "df = df.rename(columns={\"Sitename\": \"site_name\", \"siteclass\": \"status\", \"County\": \"borough\", \"ZIPCode\": \"zipcode\", \"SiteCode\": \"site_code\"}) \n",
    "\n",
    "# Convert all strings to lowercase\n",
    "df[\"borough\"] = df[\"borough\"].str.lower()\n",
    "df[\"site_name\"] = df[\"site_name\"].str.lower()\n",
    "df[\"site_code\"] = df[\"site_code\"].str.lower()\n",
    "df"
   ]
  },
  {
   "cell_type": "code",
   "execution_count": null,
   "metadata": {},
   "outputs": [],
   "source": [
    "# Ensure zipcodes are only 5 characters in length\n",
    "df['zip'].str.split(\"-\", 1)\n",
    "\n",
    "# Remove all whitespaces and commas\n"
   ]
  },
  {
   "cell_type": "code",
   "execution_count": null,
   "metadata": {},
   "outputs": [],
   "source": [
    "# Replace county name with borough name\n",
    "df['borough'] = df['borough'].replace({\"richmond\": \"staten island\"})\n",
    "df['borough'] = df['borough'].replace({\"new york\": \"manhattan\"})"
   ]
  },
  {
   "cell_type": "markdown",
   "metadata": {},
   "source": [
    "#### Group status in advance of classification"
   ]
  },
  {
   "cell_type": "code",
   "execution_count": null,
   "metadata": {},
   "outputs": [],
   "source": [
    "# Create a segment for completed projects\n",
    "df['status'] = df['status'].str.replace('N', 'completed - clean')\n",
    "df['status'] = df['status'].str.replace('C', 'completed - clean')\n",
    "df['status'] = df['status'].str.replace('5', 'completed - clean')\n",
    "\n",
    "# Create a segment for sites that pose a significant thread\n",
    "df['status'] = df['status'].str.replace('1', 'active - significant threat')\n",
    "df['status'] = df['status'].str.replace('2', 'active - significant threat')\n",
    "\n",
    "# Create a segment for sites that pose a significant thread\n",
    "df['status'] = df['status'].str.replace('P','potential threat')\n",
    "\n",
    "# Create a segment for sites that are clean but require continued maitenance\n",
    "df['status'] = df['status'].str.replace('4', 'continued threat')\n",
    "\n",
    "# Create a segment for sites that are clean but require continued maitenance\n",
    "df['status'] = df['status'].str.replace('3', 'active cleanup - mild threat')\n",
    "df['status'] = df['status'].str.replace('A', 'active cleanup - mild threat')"
   ]
  },
  {
   "cell_type": "code",
   "execution_count": null,
   "metadata": {},
   "outputs": [],
   "source": [
    "df['status'] = df['status'].replace({\"potential threatR\": \"potential threat\"})"
   ]
  },
  {
   "cell_type": "code",
   "execution_count": null,
   "metadata": {},
   "outputs": [],
   "source": [
    "df.status.value_counts()"
   ]
  },
  {
   "cell_type": "markdown",
   "metadata": {},
   "source": [
    "#### Add Categorical Encoding & Binary Values"
   ]
  },
  {
   "cell_type": "code",
   "execution_count": null,
   "metadata": {},
   "outputs": [],
   "source": [
    "# Convert type of columns to 'category'\n",
    "df['status'] = df['status'].astype('category')\n",
    "\n",
    "# Assigning numerical values and store in another column\n",
    "df['status_tier'] = df['status'].cat.codes\n"
   ]
  },
  {
   "cell_type": "code",
   "execution_count": null,
   "metadata": {},
   "outputs": [],
   "source": [
    "df"
   ]
  },
  {
   "cell_type": "code",
   "execution_count": null,
   "metadata": {},
   "outputs": [],
   "source": [
    "# Generate binary values using get_dummies\n",
    "dum_df = pd.get_dummies(df, columns=[\"status\"], prefix=[\"type_is\"] )\n",
    "\n",
    "# Merge with main df\n",
    "brownfield_df = df.merge(dum_df)\n",
    "brownfield_df"
   ]
  },
  {
   "cell_type": "code",
   "execution_count": null,
   "metadata": {},
   "outputs": [],
   "source": []
  }
 ],
 "metadata": {
  "kernelspec": {
   "display_name": "Python 3",
   "language": "python",
   "name": "python3"
  },
  "language_info": {
   "codemirror_mode": {
    "name": "ipython",
    "version": 3
   },
   "file_extension": ".py",
   "mimetype": "text/x-python",
   "name": "python",
   "nbconvert_exporter": "python",
   "pygments_lexer": "ipython3",
   "version": "3.8.5"
  }
 },
 "nbformat": 4,
 "nbformat_minor": 4
}

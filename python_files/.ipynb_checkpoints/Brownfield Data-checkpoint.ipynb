{
 "cells": [
  {
   "cell_type": "markdown",
   "metadata": {},
   "source": [
    "#### Initial Set Up"
   ]
  },
  {
   "cell_type": "code",
   "execution_count": 14,
   "metadata": {},
   "outputs": [
    {
     "name": "stdout",
     "output_type": "stream",
     "text": [
      "Original dimensions of the brownfield site dataset (rows/columns): (5278, 16)\n"
     ]
    }
   ],
   "source": [
    "# Import Dependencies\n",
    "import pandas as pd\n",
    "import numpy as np\n",
    "from sklearn.preprocessing import OneHotEncoder\n",
    "\n",
    "# Remove dataFrame display size restrictions\n",
    "#pd.set_option(\"display.max_rows\", None, \"display.max_columns\", None)\n",
    "\n",
    "# Create path\n",
    "path = \"resources/brownfields.csv\"\n",
    "\n",
    "# Read in csv\n",
    "df = pd.read_csv(path)\n",
    "\n",
    "# Display first 5 records\n",
    "df.head()\n",
    "\n",
    "# Grab original dimensions before clean\n",
    "original_dimensions = df.shape\n",
    "print(f'Original dimensions of the brownfield site dataset (rows/columns): {original_dimensions}') "
   ]
  },
  {
   "cell_type": "markdown",
   "metadata": {},
   "source": [
    "#### Clean Up"
   ]
  },
  {
   "cell_type": "code",
   "execution_count": 15,
   "metadata": {},
   "outputs": [
    {
     "name": "stdout",
     "output_type": "stream",
     "text": [
      "Dimensions of the brownfield site dataset after excluding all sites outside NYC's 5 boroughs: (1080, 16)\n"
     ]
    }
   ],
   "source": [
    "# Remove all Brownfield sites that outside NYC\n",
    "df = df[df['Town'].str.contains(\"New York City\", na=False)]\n",
    "\n",
    "nyc_only = df.shape\n",
    "print(f\"Dimensions of the brownfield site dataset after excluding all sites outside NYC's 5 boroughs: {nyc_only}\")  "
   ]
  },
  {
   "cell_type": "code",
   "execution_count": 16,
   "metadata": {},
   "outputs": [
    {
     "name": "stdout",
     "output_type": "stream",
     "text": [
      "The dimensions of the brownfield site dataset after removing irrelevant columns: (1080, 5)\n"
     ]
    }
   ],
   "source": [
    "# Remove irrelevant columns\n",
    "df = df[df.columns.difference(['accuracy', \"Address1\", 'accuracyunit', 'x_coord', 'y_coord', \"Locality\", 'Town', 'Address2', 'Region', 'method', 'Program'])]\n",
    "\n",
    "columns_removed = df.shape\n",
    "print(f'The dimensions of the brownfield site dataset after removing irrelevant columns: {columns_removed}') "
   ]
  },
  {
   "cell_type": "code",
   "execution_count": 17,
   "metadata": {},
   "outputs": [
    {
     "data": {
      "text/html": [
       "<div>\n",
       "<style scoped>\n",
       "    .dataframe tbody tr th:only-of-type {\n",
       "        vertical-align: middle;\n",
       "    }\n",
       "\n",
       "    .dataframe tbody tr th {\n",
       "        vertical-align: top;\n",
       "    }\n",
       "\n",
       "    .dataframe thead th {\n",
       "        text-align: right;\n",
       "    }\n",
       "</style>\n",
       "<table border=\"1\" class=\"dataframe\">\n",
       "  <thead>\n",
       "    <tr style=\"text-align: right;\">\n",
       "      <th></th>\n",
       "      <th>borough</th>\n",
       "      <th>site_code</th>\n",
       "      <th>sitename</th>\n",
       "      <th>zip</th>\n",
       "      <th>siteclass</th>\n",
       "    </tr>\n",
       "  </thead>\n",
       "  <tbody>\n",
       "    <tr>\n",
       "      <th>112</th>\n",
       "      <td>bronx</td>\n",
       "      <td>C203015</td>\n",
       "      <td>Gateway Center at Bronx Terminal Market, Eastern</td>\n",
       "      <td>10451</td>\n",
       "      <td>C</td>\n",
       "    </tr>\n",
       "    <tr>\n",
       "      <th>113</th>\n",
       "      <td>bronx</td>\n",
       "      <td>C203023</td>\n",
       "      <td>Plaza 163 LLC</td>\n",
       "      <td>10457</td>\n",
       "      <td>N</td>\n",
       "    </tr>\n",
       "    <tr>\n",
       "      <th>114</th>\n",
       "      <td>bronx</td>\n",
       "      <td>C203014</td>\n",
       "      <td>Parkview Commons</td>\n",
       "      <td>10451</td>\n",
       "      <td>C</td>\n",
       "    </tr>\n",
       "    <tr>\n",
       "      <th>115</th>\n",
       "      <td>bronx</td>\n",
       "      <td>C203024</td>\n",
       "      <td>Melrose Commons North</td>\n",
       "      <td>10451-</td>\n",
       "      <td>N</td>\n",
       "    </tr>\n",
       "    <tr>\n",
       "      <th>116</th>\n",
       "      <td>bronx</td>\n",
       "      <td>C203028</td>\n",
       "      <td>Gateway Center at Bronx Terminal Market, Western</td>\n",
       "      <td>10451</td>\n",
       "      <td>N</td>\n",
       "    </tr>\n",
       "    <tr>\n",
       "      <th>...</th>\n",
       "      <td>...</td>\n",
       "      <td>...</td>\n",
       "      <td>...</td>\n",
       "      <td>...</td>\n",
       "      <td>...</td>\n",
       "    </tr>\n",
       "    <tr>\n",
       "      <th>3998</th>\n",
       "      <td>richmond</td>\n",
       "      <td>V00318</td>\n",
       "      <td>Carole Cleaners - Staten Island Mall</td>\n",
       "      <td>10314</td>\n",
       "      <td>N</td>\n",
       "    </tr>\n",
       "    <tr>\n",
       "      <th>3999</th>\n",
       "      <td>richmond</td>\n",
       "      <td>V00615</td>\n",
       "      <td>Port Ivory Site (Former P &amp; G) Site 1</td>\n",
       "      <td>10303</td>\n",
       "      <td>C</td>\n",
       "    </tr>\n",
       "    <tr>\n",
       "      <th>4000</th>\n",
       "      <td>richmond</td>\n",
       "      <td>V00674</td>\n",
       "      <td>Port Ivory Site (Former P &amp; G) Site 2</td>\n",
       "      <td>10303</td>\n",
       "      <td>C</td>\n",
       "    </tr>\n",
       "    <tr>\n",
       "      <th>4001</th>\n",
       "      <td>richmond</td>\n",
       "      <td>V00675</td>\n",
       "      <td>Port Ivory Site (Former P &amp; G) Site 3</td>\n",
       "      <td>10303</td>\n",
       "      <td>N</td>\n",
       "    </tr>\n",
       "    <tr>\n",
       "      <th>4002</th>\n",
       "      <td>richmond</td>\n",
       "      <td>V00183</td>\n",
       "      <td>Former Paul Miller Dry Cleaners</td>\n",
       "      <td>10302</td>\n",
       "      <td>N</td>\n",
       "    </tr>\n",
       "  </tbody>\n",
       "</table>\n",
       "<p>1080 rows × 5 columns</p>\n",
       "</div>"
      ],
      "text/plain": [
       "       borough site_code                                          sitename  \\\n",
       "112      bronx   C203015  Gateway Center at Bronx Terminal Market, Eastern   \n",
       "113      bronx   C203023                                     Plaza 163 LLC   \n",
       "114      bronx   C203014                                  Parkview Commons   \n",
       "115      bronx   C203024                             Melrose Commons North   \n",
       "116      bronx   C203028  Gateway Center at Bronx Terminal Market, Western   \n",
       "...        ...       ...                                               ...   \n",
       "3998  richmond    V00318              Carole Cleaners - Staten Island Mall   \n",
       "3999  richmond    V00615             Port Ivory Site (Former P & G) Site 1   \n",
       "4000  richmond    V00674             Port Ivory Site (Former P & G) Site 2   \n",
       "4001  richmond    V00675             Port Ivory Site (Former P & G) Site 3   \n",
       "4002  richmond    V00183                   Former Paul Miller Dry Cleaners   \n",
       "\n",
       "         zip siteclass  \n",
       "112    10451         C  \n",
       "113    10457         N  \n",
       "114    10451         C  \n",
       "115   10451-         N  \n",
       "116    10451         N  \n",
       "...      ...       ...  \n",
       "3998   10314         N  \n",
       "3999   10303         C  \n",
       "4000   10303         C  \n",
       "4001   10303         N  \n",
       "4002   10302         N  \n",
       "\n",
       "[1080 rows x 5 columns]"
      ]
     },
     "execution_count": 17,
     "metadata": {},
     "output_type": "execute_result"
    }
   ],
   "source": [
    "# Rename column names\n",
    "df = df.rename(columns={\"Sitename\": \"sitename\", \"County\": \"borough\", \"ZIPCode\": \"zip\", \"SiteCode\": \"site_code\"}) \n",
    "# Convert all strings to lowercase\n",
    "df[\"borough\"] = df[\"borough\"].str.lower()\n",
    "df"
   ]
  },
  {
   "cell_type": "code",
   "execution_count": 18,
   "metadata": {},
   "outputs": [
    {
     "data": {
      "text/plain": [
       "112       [10451]\n",
       "113       [10457]\n",
       "114       [10451]\n",
       "115     [10451, ]\n",
       "116       [10451]\n",
       "          ...    \n",
       "3998      [10314]\n",
       "3999      [10303]\n",
       "4000      [10303]\n",
       "4001      [10303]\n",
       "4002      [10302]\n",
       "Name: zip, Length: 1080, dtype: object"
      ]
     },
     "execution_count": 18,
     "metadata": {},
     "output_type": "execute_result"
    }
   ],
   "source": [
    "# Ensure zipcodes are only 5 characters in length\n",
    "df['zip'].str.split(\"-\", 1)\n",
    "\n",
    "# Remove all whitespaces and commas\n"
   ]
  },
  {
   "cell_type": "code",
   "execution_count": 6,
   "metadata": {},
   "outputs": [],
   "source": [
    "# Replace county name with borough name\n",
    "df['borough'] = df['borough'].replace({\"richmond\": \"staten island\"})\n",
    "df['borough'] = df['borough'].replace({\"new york\": \"manhattan\"})"
   ]
  },
  {
   "cell_type": "markdown",
   "metadata": {},
   "source": [
    "#### Remove completed cleanup sites"
   ]
  },
  {
   "cell_type": "markdown",
   "metadata": {},
   "source": [
    "* Classification Code: 5\n",
    "    * The classification assigned to a site that has been properly closed and requires no further action. This may include a site where continued operation, maintenance, or monitoring is not needed to achieve/maintain protectiveness, but the site is not suitable for delisting from the Registry (e.g., DEC is unable to obtain an institutional control).\n",
    "\n",
    "* Classification Code: C (Completed)\n",
    "    * The classification used for sites where the Department has determined that remediation has been satisfactorily completed under a remedial program (i. e., State Superfund, Brownfield Cleanup Program, Environmental Restoration Program, Voluntary Cleanup Program, and RCRA Corrective Action Program). State Superfund (Registry) sites must have completed all active operation, maintenance, or monitoring requirements before they can be delisted and made class C. Non-registry sites may be made a class C after successful completion of all required construction or after a no further action remedy has been selected by the Department. These sites will be issued a Certificate of Completion (COC), but may still require ongoing maintenance and periodic certification of institutional/engineering controls (IC/ECs).\n",
    "\n",
    "* Classification Code: N (No Further Action at this Time)\n",
    "\n"
   ]
  },
  {
   "cell_type": "code",
   "execution_count": 7,
   "metadata": {},
   "outputs": [
    {
     "name": "stdout",
     "output_type": "stream",
     "text": [
      "The dimensions of the Brownfield site dataset after removing completed/inactive sites: 725\n"
     ]
    }
   ],
   "source": [
    "df = df[df[\"siteclass\"] != '5']\n",
    "#df = df[df[\"siteclass\"] != 'C']\n",
    "df = df[df[\"siteclass\"] != 'N']\n",
    "\n",
    "active_sites = len(df)\n",
    "print(f'The dimensions of the Brownfield site dataset after removing completed/inactive sites: {active_sites}') "
   ]
  },
  {
   "cell_type": "markdown",
   "metadata": {},
   "source": [
    "* Use categorical encoding using 1-5 classification (severity) or number of active sites"
   ]
  },
  {
   "cell_type": "markdown",
   "metadata": {},
   "source": [
    "#### Add Categorical Encoding & Binary Values"
   ]
  },
  {
   "cell_type": "code",
   "execution_count": 9,
   "metadata": {},
   "outputs": [],
   "source": [
    "# # Convert type of columns to 'category'\n",
    "# df['category'] = df['category'].astype('category')\n",
    "\n",
    "# # Assigning numerical values and store in another column\n",
    "# df['category_tier'] = df['category'].cat.codes\n"
   ]
  },
  {
   "cell_type": "code",
   "execution_count": 10,
   "metadata": {},
   "outputs": [],
   "source": [
    "# # Generate binary values using get_dummies\n",
    "# dum_df = pd.get_dummies(df, columns=[\"category\"], prefix=[\"Type_is\"] )\n",
    "\n",
    "# # Merge with main df\n",
    "# crime_df = df.merge(dum_df)\n",
    "# crime_df"
   ]
  },
  {
   "cell_type": "code",
   "execution_count": null,
   "metadata": {},
   "outputs": [],
   "source": []
  }
 ],
 "metadata": {
  "kernelspec": {
   "display_name": "Python 3",
   "language": "python",
   "name": "python3"
  },
  "language_info": {
   "codemirror_mode": {
    "name": "ipython",
    "version": 3
   },
   "file_extension": ".py",
   "mimetype": "text/x-python",
   "name": "python",
   "nbconvert_exporter": "python",
   "pygments_lexer": "ipython3",
   "version": "3.8.5"
  }
 },
 "nbformat": 4,
 "nbformat_minor": 4
}
